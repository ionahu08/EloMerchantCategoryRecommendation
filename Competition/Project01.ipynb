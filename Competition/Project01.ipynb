{
 "cells": [
  {
   "cell_type": "code",
   "execution_count": null,
   "metadata": {},
   "outputs": [],
   "source": [
    "# def main(debug=False):\n",
    "#     num_rows = 10000 if debug else None\n",
    "#     with timer(\"train & test\"):\n",
    "#         df = train_test(num_rows)\n",
    "#     with timer(\"historical transactions\"):\n",
    "#         df = pd.merge(df, historical_transactions(num_rows), on='card_id', how='outer')\n",
    "#     with timer(\"new merchants\"):\n",
    "#         df = pd.merge(df, new_merchant_transactions(num_rows), on='card_id', how='outer')\n",
    "#     with timer(\"additional features\"):\n",
    "#         df = additional_features(df)\n",
    "#     with timer(\"split train & test\"):\n",
    "#         train_df = df[df['target'].notnull()]\n",
    "#         test_df = df[df['target'].isnull()]\n",
    "#         del df\n",
    "#         gc.collect()\n",
    "#     with timer(\"Run LightGBM with kfold\"):\n",
    "#         kfold_lightgbm(train_df, test_df, num_folds=11, stratified=False, debug=debug)\n",
    "\n",
    "# if __name__ == \"__main__\":\n",
    "#     submission_file_name = \"submission.csv\"\n",
    "#     with timer(\"Full model run\"):\n",
    "#         main(debug=False)"
   ]
  },
  {
   "cell_type": "code",
   "execution_count": 25,
   "metadata": {},
   "outputs": [],
   "source": [
    "from contextlib import contextmanager\n",
    "import time\n"
   ]
  },
  {
   "cell_type": "code",
   "execution_count": 15,
   "metadata": {},
   "outputs": [],
   "source": [
    "@contextmanager\n",
    "def timer(title):\n",
    "    t0 = time.time()\n",
    "    yield\n",
    "    print(\"{} - done in {:.0f}s\".format(title, time.time() - t0))"
   ]
  },
  {
   "cell_type": "code",
   "execution_count": 24,
   "metadata": {},
   "outputs": [
    {
     "name": "stdout",
     "output_type": "stream",
     "text": [
      "100000002\n",
      "train & test - done in 4s\n"
     ]
    }
   ],
   "source": [
    "with timer(\"train & test\"):\n",
    "    a = 1+1\n",
    "    for i in range(100000000):\n",
    "        a = a+1\n",
    "    print(a)\n"
   ]
  },
  {
   "cell_type": "code",
   "execution_count": null,
   "metadata": {},
   "outputs": [],
   "source": []
  }
 ],
 "metadata": {
  "kernelspec": {
   "display_name": "elo",
   "language": "python",
   "name": "python3"
  },
  "language_info": {
   "codemirror_mode": {
    "name": "ipython",
    "version": 3
   },
   "file_extension": ".py",
   "mimetype": "text/x-python",
   "name": "python",
   "nbconvert_exporter": "python",
   "pygments_lexer": "ipython3",
   "version": "3.9.19"
  }
 },
 "nbformat": 4,
 "nbformat_minor": 2
}
